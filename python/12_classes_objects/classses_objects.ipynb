{
 "cells": [
  {
   "cell_type": "markdown",
   "metadata": {},
   "source": [
    "# Python Classes and Objects\n",
    "\n",
    "Python is an object-oriented programming (OOP) language, which means it allows programmers to create objects that encapsulate data and functionality together. Understanding classes and objects is essential for writing efficient and organized Python code. \n",
    "\n",
    "## Understanding Classes and Objects\n",
    "\n",
    "**Class**: A blueprint or template for creating objects. It defines a set of attributes and methods that the instantiated objects (instances) will have.\n",
    "\n",
    "**Object**: An instance of a class. It is a real-world entity that has properties (attributes) and behaviors (methods)."
   ]
  },
  {
   "cell_type": "code",
   "execution_count": 1,
   "metadata": {},
   "outputs": [
    {
     "name": "stdout",
     "output_type": "stream",
     "text": [
      "<class '__main__.Dog'>\n"
     ]
    }
   ],
   "source": [
    "class Dog:\n",
    "    pass\n",
    "\n",
    "my_dog = Dog()\n",
    "print(type(my_dog))"
   ]
  },
  {
   "cell_type": "markdown",
   "metadata": {},
   "source": [
    "## Defining a Class\n",
    "\n",
    "Defining a class in Python is straightforward. \n",
    "\n",
    "- Class Name: Should follow the PascalCase naming convention (each word capitalized, no underscores).\n",
    "- Class Body: Contains method definitions and variables.\n",
    "\n",
    "If you don’t want to add any attributes or methods immediately, you can use the pass statement to define an empty class.\n",
    "\n",
    "The basic syntax is:"
   ]
  },
  {
   "cell_type": "code",
   "execution_count": 3,
   "metadata": {},
   "outputs": [],
   "source": [
    "class ClassName:\n",
    "    # class body\n",
    "    pass"
   ]
  },
  {
   "cell_type": "markdown",
   "metadata": {},
   "source": [
    "## The __init__ Method (Constructor)\n",
    "\n",
    "The __init__ method is a special method called a constructor. \n",
    "\n",
    "It is automatically invoked when a new instance of the class is created. It initializes the object’s attributes.\n",
    "\n",
    "**self**: Refers to the instance of the class. It is used to access class attributes and methods."
   ]
  },
  {
   "cell_type": "markdown",
   "metadata": {},
   "source": [
    "```python\n",
    "class ClassName:\n",
    "    def __init__(self, parameters):\n",
    "        # initialization code"
   ]
  },
  {
   "cell_type": "code",
   "execution_count": 5,
   "metadata": {},
   "outputs": [],
   "source": [
    "class Person:\n",
    "    def __init__(self, name, age):\n",
    "        self.name = name\n",
    "        self.age = age"
   ]
  },
  {
   "cell_type": "markdown",
   "metadata": {},
   "source": [
    "The Person class has an __init__ method that initializes name and age attributes.\n",
    "\n",
    "self.name and self.age are instance variables.\n",
    "\n",
    "## Creating an Object"
   ]
  },
  {
   "cell_type": "code",
   "execution_count": 6,
   "metadata": {},
   "outputs": [
    {
     "name": "stdout",
     "output_type": "stream",
     "text": [
      "Alice\n",
      "30\n"
     ]
    }
   ],
   "source": [
    "person1 = Person(\"Alice\", 30)\n",
    "print(person1.name)  # Output: Alice\n",
    "print(person1.age)   # Output: 30"
   ]
  },
  {
   "cell_type": "markdown",
   "metadata": {},
   "source": [
    "## Instance Variables and Class Variables\n",
    "\n",
    "Instance Variables\n",
    "\n",
    "- Defined within methods.\n",
    "- Unique to each instance.\n",
    "- Prefixed with self.\n",
    "\n",
    "Class Variables\n",
    "\n",
    "- Defined within the class but outside any methods.\n",
    "- Shared among all instances of the class."
   ]
  },
  {
   "cell_type": "code",
   "execution_count": 7,
   "metadata": {},
   "outputs": [
    {
     "name": "stdout",
     "output_type": "stream",
     "text": [
      "TechCorp\n",
      "TechCorp\n",
      "InnoTech\n",
      "InnoTech\n"
     ]
    }
   ],
   "source": [
    "class Employee:\n",
    "    company_name = \"TechCorp\"  # Class Variable\n",
    "\n",
    "    def __init__(self, name):\n",
    "        self.name = name  # Instance Variable\n",
    "\n",
    "emp1 = Employee(\"Bob\")\n",
    "emp2 = Employee(\"Carol\")\n",
    "\n",
    "print(emp1.company_name)  # Output: TechCorp\n",
    "print(emp2.company_name)  # Output: TechCorp\n",
    "\n",
    "Employee.company_name = \"InnoTech\"\n",
    "\n",
    "print(emp1.company_name)  # Output: InnoTech\n",
    "print(emp2.company_name)  # Output: InnoTech"
   ]
  },
  {
   "cell_type": "markdown",
   "metadata": {},
   "source": [
    "company_name is a class variable shared among all instances.\n",
    "\n",
    "Changing Employee.company_name affects all instances."
   ]
  },
  {
   "cell_type": "markdown",
   "metadata": {},
   "source": [
    "## Methods in Classes\n",
    "\n",
    "Methods are functions defined inside a class that describe the behaviors of an object.\n",
    "\n",
    "```python\n",
    "class ClassName:\n",
    "    def method_name(self, parameters):\n",
    "        # method body\n",
    "```\n",
    "\n",
    "self: Always the first parameter. It refers to the instance calling the method."
   ]
  },
  {
   "cell_type": "code",
   "execution_count": 8,
   "metadata": {},
   "outputs": [
    {
     "name": "stdout",
     "output_type": "stream",
     "text": [
      "78.53999999999999\n"
     ]
    }
   ],
   "source": [
    "class Circle:\n",
    "    pi = 3.1416\n",
    "\n",
    "    def __init__(self, radius):\n",
    "        self.radius = radius\n",
    "\n",
    "    def area(self):\n",
    "        return Circle.pi * self.radius ** 2\n",
    "\n",
    "circle1 = Circle(5)\n",
    "print(circle1.area())  # Output: 78.53999999999999"
   ]
  },
  {
   "cell_type": "markdown",
   "metadata": {},
   "source": [
    "## Accessing Attributes and Methods\n",
    "\n",
    "You can access an object’s attributes and methods using the dot . notation.\n",
    "\n",
    "**Accessing Attributes**\n",
    "```python\n",
    "object.attribute\n",
    "```\n",
    "\n",
    "**Accessing Methods**\n",
    "```python\n",
    "object.method()\n",
    "```"
   ]
  },
  {
   "cell_type": "code",
   "execution_count": 9,
   "metadata": {},
   "outputs": [
    {
     "name": "stdout",
     "output_type": "stream",
     "text": [
      "Toyota\n",
      "The model of the car is Toyota\n"
     ]
    }
   ],
   "source": [
    "class Car:\n",
    "    def __init__(self, model):\n",
    "        self.model = model\n",
    "\n",
    "    def display_model(self):\n",
    "        print(f\"The model of the car is {self.model}\")\n",
    "\n",
    "my_car = Car(\"Toyota\")\n",
    "print(my_car.model)        # Output: Toyota\n",
    "my_car.display_model()     # Output: The model of the car is Toyota"
   ]
  },
  {
   "cell_type": "markdown",
   "metadata": {},
   "source": [
    "## Modifying Attributes\n",
    "\n",
    "You can modify an object’s attributes directly or via methods.\n",
    "\n",
    "### Direct Modification"
   ]
  },
  {
   "cell_type": "code",
   "execution_count": null,
   "metadata": {},
   "outputs": [],
   "source": [
    "my_car.model = \"Honda\"\n",
    "print(my_car.model)  # Output: Honda"
   ]
  },
  {
   "cell_type": "markdown",
   "metadata": {},
   "source": [
    "### Using Methods"
   ]
  },
  {
   "cell_type": "code",
   "execution_count": 15,
   "metadata": {},
   "outputs": [
    {
     "name": "stdout",
     "output_type": "stream",
     "text": [
      "Ford\n"
     ]
    }
   ],
   "source": [
    "class Car:\n",
    "    def __init__(self, model):\n",
    "        self.model = model\n",
    "\n",
    "    def set_model(self, model):\n",
    "        self.model = model\n",
    "\n",
    "my_car = Car(\"Honda\")\n",
    "my_car.set_model(\"Ford\")\n",
    "print(my_car.model)  # Output: Ford"
   ]
  },
  {
   "cell_type": "markdown",
   "metadata": {},
   "source": [
    "## Encapsulation\n",
    "\n",
    "Encapsulation is the concept of bundling data and methods within a class and restricting direct access to some of the object’s components.\n",
    "\n",
    "### Private Attributes\n",
    "\n",
    "In Python, private attributes are indicated by prefixing the attribute name with an underscore _ or double underscore __.\n",
    "\n",
    "- Single Underscore (_variable): Suggests that the variable is intended for internal use.\n",
    "- Double Underscore (__variable): Triggers name mangling to prevent accidental access."
   ]
  },
  {
   "cell_type": "code",
   "execution_count": 16,
   "metadata": {},
   "outputs": [
    {
     "name": "stdout",
     "output_type": "stream",
     "text": [
      "1500\n"
     ]
    }
   ],
   "source": [
    "class BankAccount:\n",
    "    def __init__(self, balance):\n",
    "        self.__balance = balance  # Private attribute\n",
    "\n",
    "    def deposit(self, amount):\n",
    "        self.__balance += amount\n",
    "\n",
    "    def get_balance(self):\n",
    "        return self.__balance\n",
    "\n",
    "account = BankAccount(1000)\n",
    "account.deposit(500)\n",
    "print(account.get_balance())  # Output: 1500"
   ]
  },
  {
   "cell_type": "markdown",
   "metadata": {},
   "source": [
    "Attempting to access __balance directly will result in an error:"
   ]
  },
  {
   "cell_type": "code",
   "execution_count": 17,
   "metadata": {},
   "outputs": [
    {
     "ename": "AttributeError",
     "evalue": "'BankAccount' object has no attribute '__balance'",
     "output_type": "error",
     "traceback": [
      "\u001b[0;31m---------------------------------------------------------------------------\u001b[0m",
      "\u001b[0;31mAttributeError\u001b[0m                            Traceback (most recent call last)",
      "Cell \u001b[0;32mIn[17], line 1\u001b[0m\n\u001b[0;32m----> 1\u001b[0m \u001b[38;5;28mprint\u001b[39m(\u001b[43maccount\u001b[49m\u001b[38;5;241;43m.\u001b[39;49m\u001b[43m__balance\u001b[49m)  \u001b[38;5;66;03m# AttributeError\u001b[39;00m\n",
      "\u001b[0;31mAttributeError\u001b[0m: 'BankAccount' object has no attribute '__balance'"
     ]
    }
   ],
   "source": [
    "print(account.__balance)  # AttributeError"
   ]
  },
  {
   "cell_type": "markdown",
   "metadata": {},
   "source": [
    "# Comprehensive Class Example - Student Management System\n",
    "\n",
    "Let’s create a more complex class that incorporates all the elements discussed."
   ]
  },
  {
   "cell_type": "code",
   "execution_count": 18,
   "metadata": {},
   "outputs": [
    {
     "name": "stdout",
     "output_type": "stream",
     "text": [
      "Name: Lisa\n",
      "Age: 16\n",
      "Student ID: S1234\n",
      "Average Grade: 96.50\n",
      "School: Springfield High\n"
     ]
    }
   ],
   "source": [
    "class Student:\n",
    "    school_name = \"Springfield High\"\n",
    "\n",
    "    def __init__(self, name, age, student_id):\n",
    "        self.name = name              # Instance Variable\n",
    "        self.age = age                # Instance Variable\n",
    "        self.__student_id = student_id  # Private Instance Variable\n",
    "        self.grades = {}              # Instance Variable\n",
    "\n",
    "    def add_grade(self, course, grade):\n",
    "        self.grades[course] = grade\n",
    "\n",
    "    def get_average(self):\n",
    "        total = sum(self.grades.values())\n",
    "        count = len(self.grades)\n",
    "        return total / count if count > 0 else 0\n",
    "\n",
    "    def display_info(self):\n",
    "        print(f\"Name: {self.name}\")\n",
    "        print(f\"Age: {self.age}\")\n",
    "        print(f\"Student ID: {self.__student_id}\")\n",
    "        print(f\"Average Grade: {self.get_average():.2f}\")\n",
    "        print(f\"School: {Student.school_name}\")\n",
    "\n",
    "# Create a student object\n",
    "student1 = Student(\"Lisa\", 16, \"S1234\")\n",
    "student1.add_grade(\"Math\", 95)\n",
    "student1.add_grade(\"Science\", 98)\n",
    "student1.display_info()"
   ]
  },
  {
   "cell_type": "markdown",
   "metadata": {},
   "source": [
    "- Student class has both instance variables and class variables.\n",
    "- __student_id is a private attribute.\n",
    "- Methods add_grade, get_average, and display_info perform operations related to the student.\n",
    "- We create an object student1 and interact with it using methods."
   ]
  },
  {
   "cell_type": "markdown",
   "metadata": {},
   "source": [
    "Understanding classes and objects is fundamental to object-oriented programming in Python. By defining classes, creating objects, and utilizing instance and class variables, you can model complex systems and data structures in a way that is organized and reusable. Encapsulation allows you to protect the internal state of objects and expose only what is necessary."
   ]
  },
  {
   "cell_type": "markdown",
   "metadata": {},
   "source": []
  }
 ],
 "metadata": {
  "kernelspec": {
   "display_name": "base",
   "language": "python",
   "name": "python3"
  },
  "language_info": {
   "codemirror_mode": {
    "name": "ipython",
    "version": 3
   },
   "file_extension": ".py",
   "mimetype": "text/x-python",
   "name": "python",
   "nbconvert_exporter": "python",
   "pygments_lexer": "ipython3",
   "version": "3.10.14"
  }
 },
 "nbformat": 4,
 "nbformat_minor": 2
}
