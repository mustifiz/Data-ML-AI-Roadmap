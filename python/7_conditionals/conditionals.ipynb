{
 "cells": [
  {
   "cell_type": "markdown",
   "metadata": {},
   "source": [
    "# Python Conditionals\n",
    "\n",
    "Sometimes you will want to execute certain sections of code based on specific conditions. This is where the conditionals come in. You can use different comparision and logical operators. There include: < > <= >= = !="
   ]
  },
  {
   "cell_type": "markdown",
   "metadata": {},
   "source": [
    "### Conditions and `if` Statements\n",
    "\n",
    "Imagine you're comparing the scores of two gamers in a video game competition:"
   ]
  },
  {
   "cell_type": "code",
   "execution_count": 1,
   "metadata": {},
   "outputs": [
    {
     "name": "stdout",
     "output_type": "stream",
     "text": [
      "Gamer 2 has a higher score than Gamer 1\n"
     ]
    }
   ],
   "source": [
    "score_gamer1 = 280\n",
    "score_gamer2 = 350\n",
    "\n",
    "if score_gamer2 > score_gamer1:\n",
    "  print(\"Gamer 2 has a higher score than Gamer 1\")"
   ]
  },
  {
   "cell_type": "markdown",
   "metadata": {},
   "source": [
    "### `elif` Statements\n",
    "\n",
    "The `elif` keyword is used for checking multiple conditions sequentially:"
   ]
  },
  {
   "cell_type": "code",
   "execution_count": 4,
   "metadata": {},
   "outputs": [
    {
     "name": "stdout",
     "output_type": "stream",
     "text": [
      "Weekend is here!\n"
     ]
    }
   ],
   "source": [
    "day = \"Friday\"\n",
    "if day == \"Monday\":\n",
    "    print(\"Start of the work week!\")\n",
    "elif day == \"Friday\":\n",
    "    print(\"Weekend is here!\")"
   ]
  },
  {
   "cell_type": "markdown",
   "metadata": {},
   "source": [
    "### `else` Statements\n",
    "\n",
    "The `else` clause catches anything not addressed by the preceding conditions:"
   ]
  },
  {
   "cell_type": "code",
   "execution_count": 5,
   "metadata": {},
   "outputs": [
    {
     "name": "stdout",
     "output_type": "stream",
     "text": [
      "Enjoy the sunshine!\n"
     ]
    }
   ],
   "source": [
    "weather = \"sunny\"\n",
    "if weather == \"rainy\":\n",
    "  print(\"Don't forget your umbrella!\")\n",
    "else:\n",
    "  print(\"Enjoy the sunshine!\")"
   ]
  },
  {
   "cell_type": "markdown",
   "metadata": {},
   "source": [
    "You can also have an else without the elif:"
   ]
  },
  {
   "cell_type": "code",
   "execution_count": 6,
   "metadata": {},
   "outputs": [
    {
     "name": "stdout",
     "output_type": "stream",
     "text": [
      "Some pet other than a dog!\n"
     ]
    }
   ],
   "source": [
    "pet = \"cat\"\n",
    "if pet == \"dog\":\n",
    "  print(\"Woof woof!\")\n",
    "else:\n",
    "  print(\"Some pet other than a dog!\")"
   ]
  },
  {
   "cell_type": "markdown",
   "metadata": {},
   "source": [
    "### Using `AND` in `if` Statements\n",
    "\n",
    "The `and` keyword combines conditional statements:"
   ]
  },
  {
   "cell_type": "code",
   "execution_count": 8,
   "metadata": {},
   "outputs": [
    {
     "name": "stdout",
     "output_type": "stream",
     "text": [
      "Warm but rainy, you might need a light raincoat.\n"
     ]
    }
   ],
   "source": [
    "temperature = 22\n",
    "is_raining = True\n",
    "if temperature > 20 and is_raining:\n",
    "  print(\"Warm but rainy, you might need a light raincoat.\")"
   ]
  },
  {
   "cell_type": "markdown",
   "metadata": {},
   "source": [
    "### Using `OR` in `if` Statements\n",
    "\n",
    "The `or` keyword is used when only one of multiple conditions needs to be true:"
   ]
  },
  {
   "cell_type": "code",
   "execution_count": 9,
   "metadata": {},
   "outputs": [
    {
     "name": "stdout",
     "output_type": "stream",
     "text": [
      "It's okay to eat the snack!\n"
     ]
    }
   ],
   "source": [
    "snack = \"chocolate\"\n",
    "diet_day = False\n",
    "if snack == \"vegetables\" or not diet_day:\n",
    "  print(\"It's okay to eat the snack!\")"
   ]
  },
  {
   "cell_type": "markdown",
   "metadata": {},
   "source": [
    "### Nested `if` Statements\n",
    "\n",
    "Nested `if` statements are useful for more specific conditions:"
   ]
  },
  {
   "cell_type": "code",
   "execution_count": 10,
   "metadata": {},
   "outputs": [
    {
     "name": "stdout",
     "output_type": "stream",
     "text": [
      "Great! You passed the test,\n",
      "and you scored an A!\n"
     ]
    }
   ],
   "source": [
    "score = 92\n",
    "if score > 50:\n",
    "  print(\"Great! You passed the test,\")\n",
    "  if score > 90:\n",
    "    print(\"and you scored an A!\")\n",
    "  else:\n",
    "    print(\"but try for a higher score next time.\")"
   ]
  },
  {
   "cell_type": "markdown",
   "metadata": {},
   "source": [
    "### `pass` Statement\n",
    "\n",
    "Sometimes, you might want to define a conditional structure with no action yet:"
   ]
  },
  {
   "cell_type": "code",
   "execution_count": 11,
   "metadata": {},
   "outputs": [],
   "source": [
    "mood = \"happy\"\n",
    "if mood == \"happy\":\n",
    "  pass  # Placeholder for future code"
   ]
  },
  {
   "cell_type": "code",
   "execution_count": null,
   "metadata": {},
   "outputs": [],
   "source": []
  }
 ],
 "metadata": {
  "kernelspec": {
   "display_name": "Python 3",
   "language": "python",
   "name": "python3"
  },
  "language_info": {
   "codemirror_mode": {
    "name": "ipython",
    "version": 3
   },
   "file_extension": ".py",
   "mimetype": "text/x-python",
   "name": "python",
   "nbconvert_exporter": "python",
   "pygments_lexer": "ipython3",
   "version": "3.11.2"
  }
 },
 "nbformat": 4,
 "nbformat_minor": 2
}
