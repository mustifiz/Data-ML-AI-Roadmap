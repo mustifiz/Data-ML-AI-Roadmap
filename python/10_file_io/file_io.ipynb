{
 "cells": [
  {
   "cell_type": "markdown",
   "metadata": {},
   "source": [
    "# Pythong Handling Files \n",
    "\n",
    "### Opening a File \n",
    "\n",
    "To work with files in Python, you use the built-in `open()` function, which creates a file object. The basic syntax is:\n",
    "\n",
    "* **file_name**: The path to the file (absolute or relative).\n",
    "* **mode**: The mode in which the file is opened. Common modes include:\n",
    "    * `'r'` for reading (default).\n",
    "    * `'w'` for writing, truncating the file first.\n",
    "    * `'a'` for appending to a file (writing at the end).\n",
    "    * `'b'` for binary mode.\n",
    "    * `'+'` for updating (reading and writing)."
   ]
  },
  {
   "cell_type": "markdown",
   "metadata": {},
   "source": [
    "### Creating and Writing to a File\n",
    "\n",
    "Before reading or modifying a file, we first need to create it and write some initial content:"
   ]
  },
  {
   "cell_type": "code",
   "execution_count": 1,
   "metadata": {},
   "outputs": [],
   "source": [
    "# Create a file and write initial content\n",
    "with open('example.txt', 'w') as file:\n",
    "    file.write(\"Hello, Python!\\nWelcome to file IO.\")"
   ]
  },
  {
   "cell_type": "markdown",
   "metadata": {},
   "source": [
    "### Reading from a File\n",
    "\n",
    "Now that our file has some content, let’s read from it in different ways:"
   ]
  },
  {
   "cell_type": "markdown",
   "metadata": {},
   "source": [
    "#### Reading the Entire Content"
   ]
  },
  {
   "cell_type": "code",
   "execution_count": 2,
   "metadata": {},
   "outputs": [
    {
     "name": "stdout",
     "output_type": "stream",
     "text": [
      "Hello, Python!\n",
      "Welcome to file IO.\n"
     ]
    }
   ],
   "source": [
    "with open('example.txt', 'r') as file:\n",
    "    content = file.read()\n",
    "    print(content)"
   ]
  },
  {
   "cell_type": "markdown",
   "metadata": {},
   "source": [
    "#### Reading Line by Line"
   ]
  },
  {
   "cell_type": "code",
   "execution_count": 3,
   "metadata": {},
   "outputs": [
    {
     "name": "stdout",
     "output_type": "stream",
     "text": [
      "Hello, Python!\n",
      "Welcome to file IO."
     ]
    }
   ],
   "source": [
    "with open('example.txt', 'r') as file:\n",
    "    for line in file:\n",
    "        print(line, end='')"
   ]
  },
  {
   "cell_type": "markdown",
   "metadata": {},
   "source": [
    "#### Reading Lines into a List"
   ]
  },
  {
   "cell_type": "code",
   "execution_count": 4,
   "metadata": {},
   "outputs": [
    {
     "name": "stdout",
     "output_type": "stream",
     "text": [
      "['Hello, Python!\\n', 'Welcome to file IO.']\n"
     ]
    }
   ],
   "source": [
    "with open('example.txt', 'r') as file:\n",
    "    lines = file.readlines()\n",
    "    print(lines)"
   ]
  },
  {
   "cell_type": "markdown",
   "metadata": {},
   "source": [
    "### Appending to the File\n",
    "\n",
    "After reading from the file, you might want to add more content to it:"
   ]
  },
  {
   "cell_type": "code",
   "execution_count": 5,
   "metadata": {},
   "outputs": [],
   "source": [
    "with open('example.txt', 'a') as file:\n",
    "    file.write(\"\\nAdding a new line to the file.\")"
   ]
  },
  {
   "cell_type": "markdown",
   "metadata": {},
   "source": [
    "### Reading the Updated File Content\n",
    "\n",
    "After appending new content, let’s read the updated file to see the changes:"
   ]
  },
  {
   "cell_type": "code",
   "execution_count": 7,
   "metadata": {},
   "outputs": [
    {
     "name": "stdout",
     "output_type": "stream",
     "text": [
      "Hello, Python!\n",
      "Welcome to file IO.\n",
      "Adding a new line to the file.\n"
     ]
    }
   ],
   "source": [
    "with open('example.txt', 'r') as file:\n",
    "    updated_content = file.read()\n",
    "    print(updated_content)"
   ]
  },
  {
   "cell_type": "markdown",
   "metadata": {},
   "source": [
    "### Working with Binary Files\n",
    "\n",
    "Although our tutorial has focused on text files so far, handling binary files is also an important aspect of file I/O:"
   ]
  },
  {
   "cell_type": "code",
   "execution_count": null,
   "metadata": {},
   "outputs": [],
   "source": [
    "# Suppose we have an image or any binary data file, we handle it similarly\n",
    "# Here we use 'example.jpg' as an imaginary binary file that exists in the same directory\n",
    "with open('example.jpg', 'rb') as file:\n",
    "    content = file.read()\n",
    "    print(content[:20])  # Print the first 20 bytes for illustration."
   ]
  },
  {
   "cell_type": "markdown",
   "metadata": {},
   "source": [
    "### Handling File I/O Exceptions\n",
    "\n",
    "It’s crucial to manage exceptions that might occur during file operations, such as the file not existing or other I/O errors:"
   ]
  },
  {
   "cell_type": "code",
   "execution_count": 8,
   "metadata": {},
   "outputs": [],
   "source": [
    "try:\n",
    "    with open('example.txt', 'r') as file:\n",
    "        content = file.read()\n",
    "except FileNotFoundError:\n",
    "    print(\"Sorry, the file does not exist.\")\n",
    "except IOError:\n",
    "    print(\"Error occurred while handling the file.\")"
   ]
  }
 ],
 "metadata": {
  "kernelspec": {
   "display_name": "Python 3",
   "language": "python",
   "name": "python3"
  },
  "language_info": {
   "codemirror_mode": {
    "name": "ipython",
    "version": 3
   },
   "file_extension": ".py",
   "mimetype": "text/x-python",
   "name": "python",
   "nbconvert_exporter": "python",
   "pygments_lexer": "ipython3",
   "version": "3.11.2"
  }
 },
 "nbformat": 4,
 "nbformat_minor": 2
}
