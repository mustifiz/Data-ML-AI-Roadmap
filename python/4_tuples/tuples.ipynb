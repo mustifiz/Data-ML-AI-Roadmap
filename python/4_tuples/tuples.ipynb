{
 "cells": [
  {
   "cell_type": "markdown",
   "metadata": {},
   "source": [
    "# Python Tuples\n",
    "\n",
    "Tuples are one of the four built-in data types in Python used to store collections of data. They are similar to lists but have one key difference: they are immutable, meaning that once a tuple is created, the items in it cannot be changed.\n",
    "\n",
    "### Creating Tuples\n",
    "A tuple is created by placing all the items (elements) inside parentheses (), separated by commas. It can have any number of items, and they may be of different types (integer, float, list, string, etc.)."
   ]
  },
  {
   "cell_type": "code",
   "execution_count": 11,
   "metadata": {},
   "outputs": [
    {
     "name": "stdout",
     "output_type": "stream",
     "text": [
      "(32, 'rainy', 5.6, ['book', 'umbrella'], False)\n"
     ]
    }
   ],
   "source": [
    "numbers = (21, -5, 6, 9)\n",
    "print(numbers)  # Output: (21, -5, 6, 9)"
   ]
  },
  {
   "cell_type": "markdown",
   "metadata": {},
   "source": [
    "### Tuple Length\n",
    "You can determine how many items a tuple has by using the len() function:"
   ]
  },
  {
   "cell_type": "code",
   "execution_count": 12,
   "metadata": {},
   "outputs": [
    {
     "name": "stdout",
     "output_type": "stream",
     "text": [
      "The length of the tuple is: 3\n"
     ]
    }
   ],
   "source": [
    "info = ('Alice', 30, 'New York')\n",
    "print(\"The length of the tuple is:\", len(info))"
   ]
  },
  {
   "cell_type": "markdown",
   "metadata": {},
   "source": [
    "### Tuples with Different Data Types\n",
    "Tuples can contain elements of different data types:"
   ]
  },
  {
   "cell_type": "code",
   "execution_count": 13,
   "metadata": {},
   "outputs": [
    {
     "name": "stdout",
     "output_type": "stream",
     "text": [
      "('John', 42, False, 3.14, ['apple', 'banana'])\n"
     ]
    }
   ],
   "source": [
    "varied_tuple = ('John', 42, False, 3.14, ['apple', 'banana'])\n",
    "print(varied_tuple)\n"
   ]
  },
  {
   "cell_type": "markdown",
   "metadata": {},
   "source": [
    "### Using the tuple() Constructor\n",
    "You can create a tuple by using the tuple() constructor:"
   ]
  },
  {
   "cell_type": "code",
   "execution_count": 14,
   "metadata": {},
   "outputs": [
    {
     "name": "stdout",
     "output_type": "stream",
     "text": [
      "('green', 'blue', 'yellow')\n"
     ]
    }
   ],
   "source": [
    "list_to_tuple = tuple([\"green\", \"blue\", \"yellow\"])\n",
    "print(list_to_tuple)"
   ]
  },
  {
   "cell_type": "markdown",
   "metadata": {},
   "source": [
    "### Nested Tuples\n",
    "Tuples can contain other tuples as well as other collections (lists, sets, etc.):"
   ]
  },
  {
   "cell_type": "code",
   "execution_count": 15,
   "metadata": {},
   "outputs": [
    {
     "name": "stdout",
     "output_type": "stream",
     "text": [
      "('morning', (1, 2, 3), ('coffee', 'toast'))\n"
     ]
    }
   ],
   "source": [
    "outer_tuple = ('morning', (1, 2, 3), ('coffee', 'toast'))\n",
    "print(outer_tuple)"
   ]
  },
  {
   "cell_type": "markdown",
   "metadata": {},
   "source": [
    "### Accessing Elements of a Tuple\n",
    "You can access tuple items by referring to the index number, inside square brackets:"
   ]
  },
  {
   "cell_type": "code",
   "execution_count": 16,
   "metadata": {},
   "outputs": [
    {
     "name": "stdout",
     "output_type": "stream",
     "text": [
      "The second color is: green\n"
     ]
    }
   ],
   "source": [
    "colors = ('red', 'green', 'blue')\n",
    "print(\"The second color is:\", colors[1])\n"
   ]
  },
  {
   "cell_type": "markdown",
   "metadata": {},
   "source": [
    "### Accessing a Range of Elements\n",
    "You can specify a range of indexes by specifying where to start and where to end the range:"
   ]
  },
  {
   "cell_type": "code",
   "execution_count": 7,
   "metadata": {},
   "outputs": [
    {
     "name": "stdout",
     "output_type": "stream",
     "text": [
      "(5, 6, 3)\n"
     ]
    }
   ],
   "source": [
    "numbers = (1, 5, 6, 3)\n",
    "print(numbers[1:4])  # Output: (5, 6, 3)"
   ]
  },
  {
   "cell_type": "markdown",
   "metadata": {},
   "source": [
    "### Updating Tuples\n",
    "Tuples are immutable, which means that once a tuple is created, you cannot change, add, or remove items. However, you can concatenate two or more tuples:"
   ]
  },
  {
   "cell_type": "code",
   "execution_count": 17,
   "metadata": {},
   "outputs": [
    {
     "name": "stdout",
     "output_type": "stream",
     "text": [
      "('apple', 'banana', 'cherry', 'date')\n"
     ]
    }
   ],
   "source": [
    "tuple_one = ('apple', 'banana')\n",
    "tuple_two = ('cherry', 'date')\n",
    "new_tuple = tuple_one + tuple_two\n",
    "print(new_tuple)\n"
   ]
  },
  {
   "cell_type": "markdown",
   "metadata": {},
   "source": [
    "### Repetition\n",
    "Tuples support repetition using the * operator:"
   ]
  },
  {
   "cell_type": "code",
   "execution_count": 18,
   "metadata": {},
   "outputs": [
    {
     "name": "stdout",
     "output_type": "stream",
     "text": [
      "('echo', 'echo', 'echo', 'echo')\n"
     ]
    }
   ],
   "source": [
    "simple_tuple = ('echo',)\n",
    "print(simple_tuple * 4)\n"
   ]
  },
  {
   "cell_type": "markdown",
   "metadata": {},
   "source": [
    "### Checking if an Item Exists\n",
    "To determine if a specified item is present in a tuple, use the in keyword:"
   ]
  },
  {
   "cell_type": "code",
   "execution_count": 10,
   "metadata": {},
   "outputs": [
    {
     "name": "stdout",
     "output_type": "stream",
     "text": [
      "True\n"
     ]
    }
   ],
   "source": [
    "weekdays = ('Monday', 'Tuesday', 'Wednesday', 'Thursday', 'Friday')\n",
    "print('Friday' in weekdays)"
   ]
  },
  {
   "cell_type": "markdown",
   "metadata": {},
   "source": [
    "### Count and Index Methods\n",
    "Utilizing count() and index() methods on tuples:"
   ]
  },
  {
   "cell_type": "code",
   "execution_count": 19,
   "metadata": {},
   "outputs": [
    {
     "name": "stdout",
     "output_type": "stream",
     "text": [
      "Number 2 appears: 3 times\n",
      "The index of number 4 is: 4\n"
     ]
    }
   ],
   "source": [
    "sample_tuple = (1, 2, 3, 2, 4, 2)\n",
    "print(\"Number 2 appears:\", sample_tuple.count(2), \"times\")\n",
    "print(\"The index of number 4 is:\", sample_tuple.index(4))\n"
   ]
  },
  {
   "cell_type": "markdown",
   "metadata": {},
   "source": [
    "### Conclusion\n",
    "Tuples are versatile and simple data structures in Python that help you store multiple items in a single, unchangeable sequence. By mastering the creation, access, and manipulation of tuples, you'll be well-equipped to handle data that should remain constant through your program's execution."
   ]
  }
 ],
 "metadata": {
  "kernelspec": {
   "display_name": "Python 3",
   "language": "python",
   "name": "python3"
  },
  "language_info": {
   "codemirror_mode": {
    "name": "ipython",
    "version": 3
   },
   "file_extension": ".py",
   "mimetype": "text/x-python",
   "name": "python",
   "nbconvert_exporter": "python",
   "pygments_lexer": "ipython3",
   "version": "3.11.2"
  }
 },
 "nbformat": 4,
 "nbformat_minor": 2
}
