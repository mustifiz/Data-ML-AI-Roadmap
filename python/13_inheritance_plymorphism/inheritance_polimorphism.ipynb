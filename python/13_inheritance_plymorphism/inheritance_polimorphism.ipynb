{
 "cells": [
  {
   "cell_type": "markdown",
   "metadata": {},
   "source": [
    "# Python Inheritance and Polymorphism\n",
    "\n",
    "These concepts allow for more flexible and reusable code by enabling new classes to extend existing ones and by allowing objects to be treated as instances of their parent class rather than their actual class.\n"
   ]
  },
  {
   "cell_type": "markdown",
   "metadata": {},
   "source": [
    "## Inheritance\n",
    "\n",
    "Inheritance is a fundamental concept in object-oriented programming that allows a class (called a child or subclass) to inherit attributes and methods from another class (called a parent or superclass). This promotes code reusability and establishes a hierarchical relationship between classes.\n",
    "\n",
    "Benefits of Inheritance\n",
    "\n",
    "- Code Reusability: Avoids duplication by reusing existing code.\n",
    "- Extensibility: Allows adding new features to existing classes without modifying them.\n",
    "- Maintainability: Simplifies code maintenance by organizing code into hierarchical relationships.\n",
    "\n",
    "## Defining a Subclass\n",
    "\n",
    "In Python, inheritance is implemented by specifying the parent class in parentheses after the child class name.\n",
    "\n",
    "```python\n",
    "class ParentClass:\n",
    "    # parent class body\n",
    "\n",
    "class ChildClass(ParentClass):\n",
    "    # child class body\n",
    "```"
   ]
  },
  {
   "cell_type": "code",
   "execution_count": null,
   "metadata": {},
   "outputs": [],
   "source": [
    "class Animal:\n",
    "    def __init__(self, name):\n",
    "        self.name = name\n",
    "\n",
    "    def speak(self):\n",
    "        pass\n",
    "\n",
    "class Dog(Animal):\n",
    "    def speak(self):\n",
    "        return f\"{self.name} says Woof!\"\n",
    "\n",
    "dog = Dog(\"Buddy\")\n",
    "print(dog.speak())  # Output: Buddy says Woof!"
   ]
  },
  {
   "cell_type": "markdown",
   "metadata": {},
   "source": [
    "Animal is the parent class.\n",
    "\n",
    "Dog is the child class that inherits from Animal.\n",
    "\n",
    "Dog overrides the speak method."
   ]
  },
  {
   "cell_type": "markdown",
   "metadata": {},
   "source": [
    "## The super() Function\n",
    "\n",
    "The super() function allows you to call methods from the parent class within a child class. This is particularly useful when you want to extend or modify the behavior of inherited methods."
   ]
  },
  {
   "cell_type": "code",
   "execution_count": 1,
   "metadata": {},
   "outputs": [
    {
     "name": "stdout",
     "output_type": "stream",
     "text": [
      "Alice\n",
      "E123\n"
     ]
    }
   ],
   "source": [
    "class Person:\n",
    "    def __init__(self, name):\n",
    "        self.name = name\n",
    "\n",
    "class Employee(Person):\n",
    "    def __init__(self, name, employee_id):\n",
    "        super().__init__(name)  # Calls the __init__ method of Person\n",
    "        self.employee_id = employee_id\n",
    "\n",
    "employee = Employee(\"Alice\", \"E123\")\n",
    "print(employee.name)         # Output: Alice\n",
    "print(employee.employee_id)  # Output: E123"
   ]
  },
  {
   "cell_type": "markdown",
   "metadata": {},
   "source": [
    "Employee inherits from Person.\n",
    "\n",
    "The __init__ method of Employee calls super().__init__(name) to initialize the name attribute from the Person class."
   ]
  },
  {
   "cell_type": "markdown",
   "metadata": {},
   "source": [
    "## Types of Inheritance\n",
    "\n",
    "Python supports several types of inheritance:\n",
    "\n",
    "### Single Inheritance\n",
    "\n",
    "A child class inherits from a single parent class.\n",
    "\n",
    "```python\n",
    "class Parent:\n",
    "    pass\n",
    "\n",
    "class Child(Parent):\n",
    "    pass\n",
    "```"
   ]
  },
  {
   "cell_type": "markdown",
   "metadata": {},
   "source": [
    "### Multiple Inheritance\n",
    "\n",
    "A child class inherits from more than one parent class.\n",
    "```python\n",
    "class Parent1:\n",
    "    pass\n",
    "\n",
    "class Parent2:\n",
    "    pass\n",
    "\n",
    "class Child(Parent1, Parent2):\n",
    "    pass\n",
    "```"
   ]
  },
  {
   "cell_type": "markdown",
   "metadata": {},
   "source": [
    "### Multilevel Inheritance\n",
    "\n",
    "A class is derived from a child class, which in turn is derived from another child class.\n",
    "```python\n",
    "class Grandparent:\n",
    "    pass\n",
    "\n",
    "class Parent(Grandparent):\n",
    "    pass\n",
    "\n",
    "class Child(Parent):\n",
    "    pass\n",
    "```"
   ]
  },
  {
   "cell_type": "markdown",
   "metadata": {},
   "source": [
    "### Hierarchical Inheritance\n",
    "\n",
    "Multiple child classes inherit from the same parent class.\n",
    "```python\n",
    "class Parent:\n",
    "    pass\n",
    "\n",
    "class Child1(Parent):\n",
    "    pass\n",
    "\n",
    "class Child2(Parent):\n",
    "    pass\n",
    "```"
   ]
  },
  {
   "cell_type": "markdown",
   "metadata": {},
   "source": [
    "## Method Overriding\n",
    "\n",
    "Method overriding occurs when a child class provides a specific implementation of a method that is already defined in its parent class."
   ]
  },
  {
   "cell_type": "code",
   "execution_count": 2,
   "metadata": {},
   "outputs": [
    {
     "name": "stdout",
     "output_type": "stream",
     "text": [
      "50\n",
      "153.9384\n"
     ]
    }
   ],
   "source": [
    "class Shape:\n",
    "    def area(self):\n",
    "        pass\n",
    "\n",
    "class Rectangle(Shape):\n",
    "    def area(self, width, height):\n",
    "        return width * height\n",
    "\n",
    "class Circle(Shape):\n",
    "    def area(self, radius):\n",
    "        return 3.1416 * radius ** 2\n",
    "\n",
    "rect = Rectangle()\n",
    "print(rect.area(5, 10))  # Output: 50\n",
    "\n",
    "circle = Circle()\n",
    "print(circle.area(7))    # Output: 153.9384"
   ]
  },
  {
   "cell_type": "markdown",
   "metadata": {},
   "source": [
    "Both Rectangle and Circle override the area method of the Shape class.\n",
    "\n",
    "Each subclass provides its own implementation of area."
   ]
  },
  {
   "cell_type": "markdown",
   "metadata": {},
   "source": [
    "## Polymorphism\n",
    "\n",
    "Polymorphism means “many forms,” and in programming, it refers to the ability of different classes to be treated as instances of the same class through a common interface. This allows for writing code that works with objects of different types as if they were the same type.\n",
    "\n",
    "### Polymorphism with Functions and Objects\n",
    "\n",
    "You can write functions that can work with objects of different classes as long as they share the same method or attribute."
   ]
  },
  {
   "cell_type": "code",
   "execution_count": null,
   "metadata": {},
   "outputs": [],
   "source": [
    "class Cat:\n",
    "    def speak(self):\n",
    "        return \"Meow\"\n",
    "\n",
    "class Dog:\n",
    "    def speak(self):\n",
    "        return \"Woof\"\n",
    "\n",
    "def animal_sound(animal):\n",
    "    print(animal.speak())\n",
    "\n",
    "cat = Cat()\n",
    "dog = Dog()\n",
    "\n",
    "animal_sound(cat)  # Output: Meow\n",
    "animal_sound(dog)  # Output: Woof"
   ]
  },
  {
   "cell_type": "markdown",
   "metadata": {},
   "source": [
    "Both Cat and Dog have a speak method.\n",
    "\n",
    "The animal_sound function can accept any object that has a speak method."
   ]
  },
  {
   "cell_type": "markdown",
   "metadata": {},
   "source": [
    "### Polymorphism in Class Methods\n",
    "\n",
    "You can also use polymorphism in classes by having methods that can work with objects of different types."
   ]
  },
  {
   "cell_type": "code",
   "execution_count": 3,
   "metadata": {},
   "outputs": [
    {
     "name": "stdout",
     "output_type": "stream",
     "text": [
      "Show PDF contents of file1.pdf\n",
      "Show Word contents of file2.docx\n"
     ]
    }
   ],
   "source": [
    "class Document:\n",
    "    def __init__(self, name):\n",
    "        self.name = name\n",
    "\n",
    "    def show(self):\n",
    "        raise NotImplementedError(\"Subclass must implement abstract method\")\n",
    "\n",
    "class Pdf(Document):\n",
    "    def show(self):\n",
    "        return f\"Show PDF contents of {self.name}\"\n",
    "\n",
    "class Word(Document):\n",
    "    def show(self):\n",
    "        return f\"Show Word contents of {self.name}\"\n",
    "\n",
    "documents = [Pdf(\"file1.pdf\"), Word(\"file2.docx\")]\n",
    "\n",
    "for doc in documents:\n",
    "    print(doc.show())\n",
    "\n",
    "# Output:\n",
    "# Show PDF contents of file1.pdf\n",
    "# Show Word contents of file2.docx"
   ]
  },
  {
   "cell_type": "markdown",
   "metadata": {},
   "source": [
    "Document is a parent class with an abstract method show.\n",
    "\n",
    "Pdf and Word are subclasses that implement the show method.\n",
    "\n",
    "We can treat all documents uniformly in the documents list."
   ]
  },
  {
   "cell_type": "markdown",
   "metadata": {},
   "source": [
    "## Abstract Classes and Interfaces\n",
    "\n",
    "An abstract class cannot be instantiated and is designed to be subclassed. It often contains one or more abstract methods that must be implemented by subclasses.\n",
    "\n",
    "In Python, abstract classes are implemented using the abc module."
   ]
  },
  {
   "cell_type": "code",
   "execution_count": 1,
   "metadata": {},
   "outputs": [
    {
     "name": "stdout",
     "output_type": "stream",
     "text": [
      "Car engine started.\n",
      "Motorcycle engine started.\n"
     ]
    }
   ],
   "source": [
    "from abc import ABC, abstractmethod\n",
    "\n",
    "class Vehicle(ABC):\n",
    "    @abstractmethod\n",
    "    def start_engine(self):\n",
    "        pass\n",
    "\n",
    "class Car(Vehicle):\n",
    "    def start_engine(self):\n",
    "        return \"Car engine started.\"\n",
    "\n",
    "class Motorcycle(Vehicle):\n",
    "    def start_engine(self):\n",
    "        return \"Motorcycle engine started.\"\n",
    "\n",
    "car = Car()\n",
    "print(car.start_engine())  # Output: Car engine started.\n",
    "\n",
    "motorcycle = Motorcycle()\n",
    "print(motorcycle.start_engine())  # Output: Motorcycle engine started."
   ]
  },
  {
   "cell_type": "markdown",
   "metadata": {},
   "source": [
    "Vehicle is an abstract class.\n",
    "\n",
    "start_engine is an abstract method that must be implemented by subclasses.\n",
    "\n",
    "Attempting to instantiate Vehicle would result in a TypeError."
   ]
  },
  {
   "cell_type": "code",
   "execution_count": null,
   "metadata": {},
   "outputs": [],
   "source": []
  }
 ],
 "metadata": {
  "kernelspec": {
   "display_name": "py310",
   "language": "python",
   "name": "python3"
  },
  "language_info": {
   "codemirror_mode": {
    "name": "ipython",
    "version": 3
   },
   "file_extension": ".py",
   "mimetype": "text/x-python",
   "name": "python",
   "nbconvert_exporter": "python",
   "pygments_lexer": "ipython3",
   "version": "3.10.14"
  }
 },
 "nbformat": 4,
 "nbformat_minor": 2
}
