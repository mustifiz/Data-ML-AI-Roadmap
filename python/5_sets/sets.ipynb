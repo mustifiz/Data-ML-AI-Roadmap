{
 "cells": [
  {
   "cell_type": "markdown",
   "metadata": {},
   "source": [
    "# Python Sets\n",
    "\n",
    "A set is a collection of unique elements. Sets are mutable, meaning they can be modified after they are created, but they can only contain immutable (unchangeable) elements like numbers, strings, and tuples."
   ]
  },
  {
   "cell_type": "markdown",
   "metadata": {},
   "source": [
    "### Creating a Set\n",
    "\n",
    "You can create a set by using the `set()` function or by placing all the elements within curly braces `{}`. Here’s an example:"
   ]
  },
  {
   "cell_type": "code",
   "execution_count": 1,
   "metadata": {},
   "outputs": [
    {
     "name": "stdout",
     "output_type": "stream",
     "text": [
      "{'banana', 'cherry', 'apple'}\n"
     ]
    }
   ],
   "source": [
    "fruits = {\"apple\", \"banana\", \"cherry\"}\n",
    "print(fruits)"
   ]
  },
  {
   "cell_type": "markdown",
   "metadata": {},
   "source": [
    "### Adding Elements to a Set\n",
    "\n",
    "To add a single element to a set, use the `add()` method. To add multiple elements, you can use the `update()` method:"
   ]
  },
  {
   "cell_type": "code",
   "execution_count": 2,
   "metadata": {},
   "outputs": [
    {
     "name": "stdout",
     "output_type": "stream",
     "text": [
      "{'banana', 'orange', 'cherry', 'apple'}\n",
      "{'orange', 'grapes', 'banana', 'apple', 'mango', 'cherry'}\n"
     ]
    }
   ],
   "source": [
    "fruits.add(\"orange\")\n",
    "print(fruits)\n",
    "\n",
    "fruits.update([\"mango\", \"grapes\"])\n",
    "print(fruits)"
   ]
  },
  {
   "cell_type": "markdown",
   "metadata": {},
   "source": [
    "### Removing Elements\n",
    "\n",
    "There are several methods to remove elements from a set: `remove()`, `discard()`, and `pop()`:"
   ]
  },
  {
   "cell_type": "code",
   "execution_count": 3,
   "metadata": {},
   "outputs": [
    {
     "name": "stdout",
     "output_type": "stream",
     "text": [
      "{'orange', 'grapes', 'apple', 'mango', 'cherry'}\n",
      "{'orange', 'grapes', 'mango', 'cherry'}\n",
      "orange {'grapes', 'mango', 'cherry'}\n"
     ]
    }
   ],
   "source": [
    "fruits.remove(\"banana\")\n",
    "print(fruits)\n",
    "\n",
    "fruits.discard(\"apple\")\n",
    "print(fruits)\n",
    "\n",
    "item = fruits.pop()  # Removes a random item\n",
    "print(item, fruits)"
   ]
  },
  {
   "cell_type": "markdown",
   "metadata": {},
   "source": [
    "### Checking for Membership\n",
    "\n",
    "To check if an item is in a set, use the `in` keyword:"
   ]
  },
  {
   "cell_type": "code",
   "execution_count": 4,
   "metadata": {},
   "outputs": [
    {
     "name": "stdout",
     "output_type": "stream",
     "text": [
      "Mango is in the set\n"
     ]
    }
   ],
   "source": [
    "if \"mango\" in fruits:\n",
    "    print(\"Mango is in the set\")"
   ]
  },
  {
   "cell_type": "markdown",
   "metadata": {},
   "source": [
    "### Set Operations\n",
    "\n",
    "Sets support mathematical operations like union, intersection, difference, and symmetric difference:"
   ]
  },
  {
   "cell_type": "code",
   "execution_count": 5,
   "metadata": {},
   "outputs": [
    {
     "name": "stdout",
     "output_type": "stream",
     "text": [
      "{1, 2, 3, 4, 5, 6}\n",
      "{3, 4}\n",
      "{1, 2}\n",
      "{1, 2, 5, 6}\n"
     ]
    }
   ],
   "source": [
    "a = {1, 2, 3, 4}\n",
    "b = {3, 4, 5, 6}\n",
    "\n",
    "# Union\n",
    "print(a | b)  # or a.union(b)\n",
    "# Output: {1, 2, 3, 4, 5, 6}\n",
    "\n",
    "# Intersection\n",
    "print(a & b)  # or a.intersection(b)\n",
    "# Output: {3, 4}\n",
    "\n",
    "# Difference\n",
    "print(a - b)  # or a.difference(b)\n",
    "# Output: {1, 2}\n",
    "\n",
    "# Symmetric Difference\n",
    "print(a ^ b)  # or a.symmetric_difference(b)\n",
    "# Output: {1, 2, 5, 6}"
   ]
  },
  {
   "cell_type": "markdown",
   "metadata": {},
   "source": [
    "### Set Comprehensions\n",
    "\n",
    "Set comprehensions provide a concise way to create sets. The syntax is similar to that of list comprehensions:"
   ]
  },
  {
   "cell_type": "code",
   "execution_count": 6,
   "metadata": {},
   "outputs": [
    {
     "name": "stdout",
     "output_type": "stream",
     "text": [
      "{0, 1, 64, 4, 36, 9, 16, 49, 81, 25}\n"
     ]
    }
   ],
   "source": [
    "squared = {x**2 for x in range(10)}\n",
    "print(squared)"
   ]
  },
  {
   "cell_type": "markdown",
   "metadata": {},
   "source": [
    "Sets are invaluable when dealing with large datasets requiring the elimination of duplicates, for set operations like those in mathematics, and when the order of items is unimportant. Their performance for membership tests is better than lists or tuples."
   ]
  }
 ],
 "metadata": {
  "kernelspec": {
   "display_name": "Python 3",
   "language": "python",
   "name": "python3"
  },
  "language_info": {
   "codemirror_mode": {
    "name": "ipython",
    "version": 3
   },
   "file_extension": ".py",
   "mimetype": "text/x-python",
   "name": "python",
   "nbconvert_exporter": "python",
   "pygments_lexer": "ipython3",
   "version": "3.11.2"
  }
 },
 "nbformat": 4,
 "nbformat_minor": 2
}
