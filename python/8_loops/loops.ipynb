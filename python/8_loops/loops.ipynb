{
 "cells": [
  {
   "cell_type": "markdown",
   "metadata": {},
   "source": [
    "# While Loops\n",
    "\n",
    "A while loop in Python repeatedly executes a block of statements as long as a condition is true. It's particularly useful when you're not sure how many times you'll need to iterate."
   ]
  },
  {
   "cell_type": "markdown",
   "metadata": {},
   "source": [
    "### Basic While Loop Structure\n",
    "\n",
    "Here’s how a simple while loop looks:"
   ]
  },
  {
   "cell_type": "code",
   "execution_count": 1,
   "metadata": {},
   "outputs": [
    {
     "name": "stdout",
     "output_type": "stream",
     "text": [
      "Counting up: 0\n",
      "Counting up: 1\n",
      "Counting up: 2\n",
      "Counting up: 3\n",
      "Counting up: 4\n"
     ]
    }
   ],
   "source": [
    "count = 0\n",
    "while count < 5:\n",
    "    print(\"Counting up:\", count)\n",
    "    count += 1  # This is the same as count = count + 1\n"
   ]
  },
  {
   "cell_type": "markdown",
   "metadata": {},
   "source": [
    "### Combining While Loops with Lists\n",
    "\n",
    "You can use while loops to process items in a list. Here’s a fun way to simulate a queue of tasks:"
   ]
  },
  {
   "cell_type": "code",
   "execution_count": 1,
   "metadata": {},
   "outputs": [
    {
     "name": "stdout",
     "output_type": "stream",
     "text": [
      "Handling task: wash the car\n",
      "Handling task: write the report\n",
      "Handling task: pay bills\n",
      "Handling task: post on social media\n"
     ]
    }
   ],
   "source": [
    "tasks = [\"wash the car\", \"write the report\", \"pay bills\", \"post on social media\"]\n",
    "while tasks:\n",
    "    current_task = tasks.pop(0)\n",
    "    print(\"Handling task:\", current_task)"
   ]
  },
  {
   "cell_type": "markdown",
   "metadata": {},
   "source": [
    "### Using a While Loop with a Break Statement\n",
    "\n",
    "Sometimes you may want to exit a while loop ahead of time. `break` allows you to exit the loop, regardless of the loop's condition:"
   ]
  },
  {
   "cell_type": "code",
   "execution_count": 2,
   "metadata": {},
   "outputs": [
    {
     "name": "stdout",
     "output_type": "stream",
     "text": [
      "You guessed the magic number!\n"
     ]
    }
   ],
   "source": [
    "magic_number = 7\n",
    "guess = 0\n",
    "while True:\n",
    "    guess += 1\n",
    "    if guess == magic_number:\n",
    "        print(\"You guessed the magic number!\")\n",
    "        break\n",
    "\n",
    "### Output ###\n",
    "# You guessed the magic number!"
   ]
  },
  {
   "cell_type": "markdown",
   "metadata": {},
   "source": [
    "### Using While Loops with the Continue Statement\n",
    "\n",
    "The `continue` statement skips the current iteration and proceeds to the next iteration of the loop:"
   ]
  },
  {
   "cell_type": "code",
   "execution_count": 3,
   "metadata": {},
   "outputs": [
    {
     "name": "stdout",
     "output_type": "stream",
     "text": [
      "Odd number: 1\n",
      "Odd number: 3\n",
      "Odd number: 5\n",
      "Odd number: 7\n",
      "Odd number: 9\n"
     ]
    }
   ],
   "source": [
    "number = 0\n",
    "while number < 10:\n",
    "    number += 1\n",
    "    if number % 2 == 0:\n",
    "        continue\n",
    "    print(\"Odd number:\", number)"
   ]
  },
  {
   "cell_type": "markdown",
   "metadata": {},
   "source": [
    "### Infinite Loops\n",
    "\n",
    "Be cautious with while loops because if the condition never becomes false, the loop will continue indefinitely. Here’s a simple, controlled example:"
   ]
  },
  {
   "cell_type": "code",
   "execution_count": 5,
   "metadata": {},
   "outputs": [],
   "source": [
    "# Danger! Infinite loop!\n",
    "# Uncomment to run at your own risk.\n",
    "# while True:\n",
    "#     print(\"I'm stuck inside an infinite loop!\")"
   ]
  },
  {
   "cell_type": "markdown",
   "metadata": {},
   "source": [
    "# Python For Loop\n",
    "\n",
    "A for loop in Python iterates over a sequence (e.g., a list, tuple, string) and executes a block of code for each item in that sequence. It's especially handy when you know beforehand how many times the loop should run."
   ]
  },
  {
   "cell_type": "markdown",
   "metadata": {},
   "source": [
    "### Basic For Loop Structure\n",
    "\n",
    "Here’s a simple example of a `for` loop:"
   ]
  },
  {
   "cell_type": "code",
   "execution_count": 6,
   "metadata": {},
   "outputs": [
    {
     "name": "stdout",
     "output_type": "stream",
     "text": [
      "The color is red\n",
      "The color is blue\n",
      "The color is green\n",
      "The color is yellow\n"
     ]
    }
   ],
   "source": [
    "colors = ['red', 'blue', 'green', 'yellow']\n",
    "for color in colors:\n",
    "    print(f\"The color is {color}\")"
   ]
  },
  {
   "cell_type": "markdown",
   "metadata": {},
   "source": [
    "### Using For Loops with Strings\n",
    "\n",
    "`For` loops can be used to iterate through each character in a string:"
   ]
  },
  {
   "cell_type": "code",
   "execution_count": 7,
   "metadata": {},
   "outputs": [
    {
     "name": "stdout",
     "output_type": "stream",
     "text": [
      "Give me a H!\n",
      "Give me a e!\n",
      "Give me a l!\n",
      "Give me a l!\n",
      "Give me a o!\n"
     ]
    }
   ],
   "source": [
    "greeting = \"Hello\"\n",
    "for letter in greeting:\n",
    "    print(f\"Give me a {letter}!\")"
   ]
  },
  {
   "cell_type": "markdown",
   "metadata": {},
   "source": [
    "### Looping Through Dictionaries\n",
    "\n",
    "To loop through a dictionary, you can iterate over its keys, values, or key-value pairs:"
   ]
  },
  {
   "cell_type": "code",
   "execution_count": 8,
   "metadata": {},
   "outputs": [
    {
     "name": "stdout",
     "output_type": "stream",
     "text": [
      "The cat is 2 years old.\n",
      "The dog is 5 years old.\n",
      "The parrot is 3 years old.\n"
     ]
    }
   ],
   "source": [
    "pet_ages = {'cat': 2, 'dog': 5, 'parrot': 3}\n",
    "for pet, age in pet_ages.items():\n",
    "    print(f\"The {pet} is {age} years old.\")"
   ]
  },
  {
   "cell_type": "markdown",
   "metadata": {},
   "source": [
    "### The `range()` Function\n",
    "\n",
    "The `range()` function is often used in `for` loops when you need to perform an action a certain number of times:"
   ]
  },
  {
   "cell_type": "code",
   "execution_count": 9,
   "metadata": {},
   "outputs": [
    {
     "name": "stdout",
     "output_type": "stream",
     "text": [
      "Number 1\n",
      "Number 2\n",
      "Number 3\n",
      "Number 4\n",
      "Number 5\n"
     ]
    }
   ],
   "source": [
    "for num in range(1, 6):  # Starts at 1 and ends at 5, not including 6\n",
    "    print(f\"Number {num}\")"
   ]
  },
  {
   "cell_type": "markdown",
   "metadata": {},
   "source": [
    "### Nested For Loops\n",
    "\n",
    "`For` loops can be nested within one another to handle multi-dimensional data:"
   ]
  },
  {
   "cell_type": "code",
   "execution_count": 10,
   "metadata": {},
   "outputs": [
    {
     "name": "stdout",
     "output_type": "stream",
     "text": [
      "1 2 3 \n",
      "4 5 6 \n",
      "7 8 9 \n"
     ]
    }
   ],
   "source": [
    "matrix = [\n",
    "    [1, 2, 3],\n",
    "    [4, 5, 6],\n",
    "    [7, 8, 9]\n",
    "]\n",
    "\n",
    "for row in matrix:\n",
    "    for num in row:\n",
    "        print(num, end=' ')\n",
    "    print()  # for a new line after each row"
   ]
  },
  {
   "cell_type": "markdown",
   "metadata": {},
   "source": [
    "### Using `break` and `continue`\n",
    "\n",
    "The `break` statement stops the loop before it has looped through all items. The `continue` statement skips the current iteration and proceeds to the next one:"
   ]
  },
  {
   "cell_type": "code",
   "execution_count": 12,
   "metadata": {},
   "outputs": [
    {
     "name": "stdout",
     "output_type": "stream",
     "text": [
      "1\n",
      "2\n",
      "3\n"
     ]
    }
   ],
   "source": [
    "# Example with break\n",
    "for num in range(1, 10):\n",
    "    if num == 4:\n",
    "        break\n",
    "    print(num)"
   ]
  },
  {
   "cell_type": "code",
   "execution_count": 13,
   "metadata": {},
   "outputs": [
    {
     "name": "stdout",
     "output_type": "stream",
     "text": [
      "1\n",
      "3\n",
      "5\n",
      "7\n",
      "9\n"
     ]
    }
   ],
   "source": [
    "# Example with continue\n",
    "for num in range(1, 10):\n",
    "    if num % 2 == 0:\n",
    "        continue\n",
    "    print(num)"
   ]
  },
  {
   "cell_type": "markdown",
   "metadata": {},
   "source": [
    "\n",
    "### Looping with an Index\n",
    "\n",
    "Sometimes, you might need the index of the current item in the loop. You can use the `enumerate()` function:"
   ]
  },
  {
   "cell_type": "code",
   "execution_count": 14,
   "metadata": {},
   "outputs": [
    {
     "name": "stdout",
     "output_type": "stream",
     "text": [
      "Hero 1: Batman\n",
      "Hero 2: Superman\n",
      "Hero 3: Wonder Woman\n"
     ]
    }
   ],
   "source": [
    "heroes = ['Batman', 'Superman', 'Wonder Woman']\n",
    "for index, hero in enumerate(heroes):\n",
    "    print(f\"Hero {index + 1}: {hero}\")"
   ]
  }
 ],
 "metadata": {
  "kernelspec": {
   "display_name": "Python 3",
   "language": "python",
   "name": "python3"
  },
  "language_info": {
   "codemirror_mode": {
    "name": "ipython",
    "version": 3
   },
   "file_extension": ".py",
   "mimetype": "text/x-python",
   "name": "python",
   "nbconvert_exporter": "python",
   "pygments_lexer": "ipython3",
   "version": "3.11.2"
  }
 },
 "nbformat": 4,
 "nbformat_minor": 2
}
