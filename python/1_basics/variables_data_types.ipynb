{
 "cells": [
  {
   "cell_type": "markdown",
   "metadata": {},
   "source": [
    "<h1> Python Variables </h1>"
   ]
  },
  {
   "cell_type": "markdown",
   "metadata": {},
   "source": [
    "<h3> Naming Variable </h3>\n",
    "\n",
    "The simplest way to describe variables is that they are names that are assigned to values. These names can start with either a letter or an underscore, but not a number."
   ]
  },
  {
   "cell_type": "code",
   "execution_count": 3,
   "metadata": {},
   "outputs": [],
   "source": [
    "# correct way to name a variable\n",
    "variableName = 1\n",
    "_variable = 1"
   ]
  },
  {
   "cell_type": "code",
   "execution_count": 4,
   "metadata": {},
   "outputs": [
    {
     "ename": "SyntaxError",
     "evalue": "invalid decimal literal (867056353.py, line 2)",
     "output_type": "error",
     "traceback": [
      "\u001b[1;36m  Cell \u001b[1;32mIn[4], line 2\u001b[1;36m\u001b[0m\n\u001b[1;33m    1variable = 1\u001b[0m\n\u001b[1;37m    ^\u001b[0m\n\u001b[1;31mSyntaxError\u001b[0m\u001b[1;31m:\u001b[0m invalid decimal literal\n"
     ]
    }
   ],
   "source": [
    "# incorrect way to name a variable\n",
    "1variable = 1"
   ]
  },
  {
   "cell_type": "markdown",
   "metadata": {},
   "source": [
    "<h3> Case Sensitive Variables </h3>\n",
    "\n",
    "Variable names are case sensitive, meaning two variables with the same name but one has an uppercase letter will be treated differently than the variable with the lowercase letter."
   ]
  },
  {
   "cell_type": "code",
   "execution_count": 5,
   "metadata": {},
   "outputs": [
    {
     "name": "stdout",
     "output_type": "stream",
     "text": [
      "var : 1\n",
      "VAR : 2\n"
     ]
    }
   ],
   "source": [
    "var = 1\n",
    "print(\"var :\", var)\n",
    "\n",
    "VAR = 2\n",
    "print(\"VAR :\", VAR)"
   ]
  },
  {
   "cell_type": "markdown",
   "metadata": {},
   "source": [
    "<h3> Assign Multiple Variables </h3>\n",
    "\n",
    "You can assign mulitple variables in one line. It's not good practice to do this, but it is possible."
   ]
  },
  {
   "cell_type": "code",
   "execution_count": 6,
   "metadata": {},
   "outputs": [
    {
     "name": "stdout",
     "output_type": "stream",
     "text": [
      "vairable1:  4\n",
      "vairable2:  4\n",
      "vairable3:  4\n"
     ]
    }
   ],
   "source": [
    "variable1 = variable2 = variable3 = 4\n",
    "print(\"vairable1: \", variable1)\n",
    "print(\"vairable2: \", variable2)\n",
    "print(\"vairable3: \", variable3)"
   ]
  },
  {
   "cell_type": "markdown",
   "metadata": {},
   "source": [
    "<h1> Python Data Types </h1>"
   ]
  },
  {
   "cell_type": "markdown",
   "metadata": {},
   "source": [
    "In Python, data is dynamically typed, which means that Python automatically determines the type of a variable (such as integer, float, string, etc.) based on the data you assign to it, without requiring explicit specification. The type of variable can dynaimcally change as you assign different types."
   ]
  },
  {
   "cell_type": "code",
   "execution_count": 10,
   "metadata": {},
   "outputs": [
    {
     "name": "stdout",
     "output_type": "stream",
     "text": [
      "Vairable is of type : <class 'int'>\n",
      "Now, it is of type : <class 'str'>\n"
     ]
    }
   ],
   "source": [
    "variable = 1\n",
    "print(\"Vairable is of type :\", type(variable))\n",
    "\n",
    "variable = \"hello\"\n",
    "print(\"Now, it is of type :\", type(variable))"
   ]
  },
  {
   "cell_type": "markdown",
   "metadata": {},
   "source": [
    "<h3> Basic Data Types in Python </h3>\n",
    "\n",
    "To get the type fo a variable or data type, use `type()`"
   ]
  },
  {
   "cell_type": "code",
   "execution_count": 24,
   "metadata": {},
   "outputs": [
    {
     "name": "stdout",
     "output_type": "stream",
     "text": [
      "integer:  <class 'int'>\n",
      "float:  <class 'float'>\n",
      "complex numbers:  <class 'complex'>\n",
      "boolean:  <class 'bool'>\n",
      "string:  <class 'str'>\n"
     ]
    }
   ],
   "source": [
    "var = 10\n",
    "print(\"integer: \", type(var))\n",
    "\n",
    "var = 1.5\n",
    "print(\"float: \", type(var))\n",
    "\n",
    "var = 10 + 5j\n",
    "print(\"complex numbers: \", type(var))\n",
    "\n",
    "var = True\n",
    "print(\"boolean: \", type(var))\n",
    "\n",
    "var = \"Hello\"\n",
    "print(\"string: \", type(var))"
   ]
  },
  {
   "cell_type": "markdown",
   "metadata": {},
   "source": [
    "<h3> Casting Data Types </h3>\n",
    "\n",
    "Casting allows you want to change a variable's data type to a different type. For example, if you want to change the type of a variable, which is a float, into an integer, you would use `int()`."
   ]
  },
  {
   "cell_type": "code",
   "execution_count": 2,
   "metadata": {},
   "outputs": [
    {
     "name": "stdout",
     "output_type": "stream",
     "text": [
      "Original variable type:  <class 'float'>\n",
      "Casting to an integer:  <class 'int'>\n"
     ]
    }
   ],
   "source": [
    "float_variable = 3.14\n",
    "print(\"Original variable type: \", type(float_variable))\n",
    "print(\"Casting to an integer: \", type(int(float_variable)))"
   ]
  },
  {
   "cell_type": "markdown",
   "metadata": {},
   "source": [
    "You can try casting other types such as string, char and ordinal."
   ]
  },
  {
   "cell_type": "code",
   "execution_count": 5,
   "metadata": {},
   "outputs": [
    {
     "name": "stdout",
     "output_type": "stream",
     "text": [
      "Casting to a string:  <class 'str'>\n",
      "Casting to a character:  <class 'str'>\n",
      "Casting to an ordinal:  <class 'int'>\n"
     ]
    }
   ],
   "source": [
    "# convert a number into a string\n",
    "print(\"Casting to a string: \", type(str(32)))\n",
    "# convert a number into a character\n",
    "print(\"Casting to a character: \", type(chr(32)))\n",
    "# convert an individual character into an integer representation (ASCII)\n",
    "print(\"Casting to an ordinal: \", type(ord('d')))"
   ]
  },
  {
   "cell_type": "markdown",
   "metadata": {},
   "source": []
  }
 ],
 "metadata": {
  "kernelspec": {
   "display_name": "Python 3",
   "language": "python",
   "name": "python3"
  },
  "language_info": {
   "codemirror_mode": {
    "name": "ipython",
    "version": 3
   },
   "file_extension": ".py",
   "mimetype": "text/x-python",
   "name": "python",
   "nbconvert_exporter": "python",
   "pygments_lexer": "ipython3",
   "version": "3.11.2"
  }
 },
 "nbformat": 4,
 "nbformat_minor": 2
}
